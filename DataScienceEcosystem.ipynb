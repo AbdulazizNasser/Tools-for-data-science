{
  "nbformat": 4,
  "nbformat_minor": 0,
  "metadata": {
    "colab": {
      "provenance": []
    },
    "kernelspec": {
      "name": "python3",
      "display_name": "Python 3"
    },
    "language_info": {
      "name": "python"
    }
  },
  "cells": [
    {
      "cell_type": "markdown",
      "source": [
        "#Data Science Tools and Ecosystem\n"
      ],
      "metadata": {
        "id": "g1qkeIVBAZbG"
      }
    },
    {
      "cell_type": "markdown",
      "source": [
        "**Objectives:**\n",
        "- popular languages that Data Scientists use\n",
        "- libraries used by Data Scientists\n",
        "- examples of evaluating arithmetic expressions\n",
        "- Author's name"
      ],
      "metadata": {
        "id": "KSo0u2NIGfeo"
      }
    },
    {
      "cell_type": "markdown",
      "source": [
        "##In this notebook, Data Science Tools and Ecosystem are summarized."
      ],
      "metadata": {
        "id": "jSjOsEWJBAwB"
      }
    },
    {
      "cell_type": "markdown",
      "source": [
        "###Some of the popular languages that Data Scientists use are:\n",
        "<ol>\n",
        "  <li>Python </li>\n",
        "  <li>R </li>\n",
        "  <li>Java </li>\n",
        "\n",
        "\n",
        "<ol>"
      ],
      "metadata": {
        "id": "Ey4XyULXBaZx"
      }
    },
    {
      "cell_type": "markdown",
      "source": [
        "###Some of the commonly used libraries used by Data Scientists include:\n",
        "\n",
        "<ol>\n",
        "  <li>Pandas </li>\n",
        "  <li>Numpy </li>\n",
        "  <li>Matpotlib </li>\n",
        "\n",
        "<ol>"
      ],
      "metadata": {
        "id": "osZvpg-SCX9E"
      }
    },
    {
      "cell_type": "markdown",
      "source": [
        "  | Data Science Tools |\n",
        "  |:--------:|\n",
        "  |  Jupyter Notebooks  |\n",
        "  |  RStudio |\n",
        "  |  Visual Studio Code (VS Code) |  "
      ],
      "metadata": {
        "id": "-u8J_YVODE2o"
      }
    },
    {
      "cell_type": "markdown",
      "source": [
        "###Below are a few examples of evaluating arithmetic expressions in Python"
      ],
      "metadata": {
        "id": "ZhO3avkWFDA8"
      }
    },
    {
      "cell_type": "code",
      "source": [
        "# This a simple arithmetic expression to mutiply then add integers\n",
        "(3*4)+5"
      ],
      "metadata": {
        "colab": {
          "base_uri": "https://localhost:8080/"
        },
        "id": "lq8T2f51FLp3",
        "outputId": "6788c2f5-3026-4123-f063-70e5204391e1"
      },
      "execution_count": 2,
      "outputs": [
        {
          "output_type": "execute_result",
          "data": {
            "text/plain": [
              "17"
            ]
          },
          "metadata": {},
          "execution_count": 2
        }
      ]
    },
    {
      "cell_type": "code",
      "source": [
        "# This will convert 200 minutes to hours by diving by 60\n",
        "minutes = 200\n",
        "houres = minutes / 60\n",
        "\n",
        "print(houres)"
      ],
      "metadata": {
        "colab": {
          "base_uri": "https://localhost:8080/"
        },
        "id": "vFApz-XOF_nA",
        "outputId": "6ff2cf07-b612-4f17-8f78-d038b73d3fc5"
      },
      "execution_count": 4,
      "outputs": [
        {
          "output_type": "stream",
          "name": "stdout",
          "text": [
            "3.3333333333333335\n"
          ]
        }
      ]
    },
    {
      "cell_type": "markdown",
      "source": [
        "##Author\n",
        "Name: Abdulaziz Nasser"
      ],
      "metadata": {
        "id": "4DerE1MzHZe2"
      }
    }
  ]
}